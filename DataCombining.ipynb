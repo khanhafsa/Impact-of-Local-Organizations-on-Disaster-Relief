{
 "cells": [
  {
   "cell_type": "code",
   "execution_count": 1,
   "metadata": {},
   "outputs": [],
   "source": [
    "import pandas as pd\n",
    "import numpy as np\n",
    "from datetime import datetime"
   ]
  },
  {
   "cell_type": "markdown",
   "metadata": {},
   "source": [
    "### Combine datasets"
   ]
  },
  {
   "cell_type": "markdown",
   "metadata": {},
   "source": [
    "#### State Population/area dataset"
   ]
  },
  {
   "cell_type": "code",
   "execution_count": 2,
   "metadata": {},
   "outputs": [],
   "source": [
    "df_counties = pd.read_csv('CountiesData.csv')"
   ]
  },
  {
   "cell_type": "code",
   "execution_count": 3,
   "metadata": {},
   "outputs": [
    {
     "data": {
      "text/plain": [
       "State             object\n",
       "County            object\n",
       "Population        object\n",
       "Land_Area_km2     object\n",
       "Water_Area_km2    object\n",
       "Total_Area_km2    object\n",
       "Latitude          object\n",
       "Longitude         object\n",
       "dtype: object"
      ]
     },
     "execution_count": 3,
     "metadata": {},
     "output_type": "execute_result"
    }
   ],
   "source": [
    "df_counties.dtypes"
   ]
  },
  {
   "cell_type": "code",
   "execution_count": 4,
   "metadata": {},
   "outputs": [],
   "source": [
    "df_counties.drop(['County', 'Water_Area_km2', 'Latitude', 'Longitude'], axis=1, inplace=True)"
   ]
  },
  {
   "cell_type": "code",
   "execution_count": 5,
   "metadata": {},
   "outputs": [],
   "source": [
    "# change column types to float\n",
    "\n",
    "df_counties['Population'] = df_counties['Population'].astype(str)\n",
    "df_counties['Population'] = df_counties['Population'].str.replace(',', '')\n",
    "df_counties['Population'] = df_counties['Population'].astype(float)\n",
    "\n",
    "df_counties['Land_Area_km2'] = df_counties['Land_Area_km2'].astype(str)\n",
    "df_counties['Land_Area_km2'] = df_counties['Land_Area_km2'].str.replace(',', '')\n",
    "df_counties['Land_Area_km2'] = df_counties['Land_Area_km2'].astype(float)\n",
    "\n",
    "df_counties['Total_Area_km2'] = df_counties['Total_Area_km2'].astype(str)\n",
    "df_counties['Total_Area_km2'] = df_counties['Total_Area_km2'].str.replace(',', '')\n",
    "df_counties['Total_Area_km2'] = df_counties['Total_Area_km2'].astype(float)"
   ]
  },
  {
   "cell_type": "code",
   "execution_count": 6,
   "metadata": {},
   "outputs": [],
   "source": [
    "df_population = df_counties.groupby('State').sum() # group data into cumulative data for States\n",
    "\n",
    "df_population.reset_index(inplace=True) # reset index"
   ]
  },
  {
   "cell_type": "code",
   "execution_count": 7,
   "metadata": {},
   "outputs": [],
   "source": [
    "df_population.set_index('State', inplace=True) # set index to states"
   ]
  },
  {
   "cell_type": "code",
   "execution_count": 8,
   "metadata": {},
   "outputs": [],
   "source": [
    "states_dict = df_population.to_dict() # convert dataframe to dictionaries\n",
    "\n",
    "population_dict = states_dict['Population'] # population dictionary\n",
    "\n",
    "landArea_dict = states_dict['Land_Area_km2'] # Land Area dictionary\n",
    "\n",
    "totalArea_dict = states_dict['Total_Area_km2'] # Total Area dictionary"
   ]
  },
  {
   "cell_type": "markdown",
   "metadata": {},
   "source": [
    "#### Disasters dataset"
   ]
  },
  {
   "cell_type": "code",
   "execution_count": 9,
   "metadata": {},
   "outputs": [],
   "source": [
    "df_disasters = pd.read_csv('FinalDisastersDataset.csv')"
   ]
  },
  {
   "cell_type": "code",
   "execution_count": 10,
   "metadata": {},
   "outputs": [
    {
     "data": {
      "text/plain": [
       "Declaration Number                      0\n",
       "Declaration Type                        0\n",
       "Declaration Date                        0\n",
       "State                                   0\n",
       "County                                  7\n",
       "Disaster Type                           0\n",
       "Disaster Title                          0\n",
       "Start Date                              0\n",
       "End Date                              282\n",
       "Close Date                          10854\n",
       "Individual Assistance Program           0\n",
       "Individuals & Households Program        0\n",
       "Public Assistance Program               0\n",
       "Hazard Mitigation Program               0\n",
       "Year                                    0\n",
       "dtype: int64"
      ]
     },
     "execution_count": 10,
     "metadata": {},
     "output_type": "execute_result"
    }
   ],
   "source": [
    "df_disasters.isnull().sum()"
   ]
  },
  {
   "cell_type": "code",
   "execution_count": 11,
   "metadata": {},
   "outputs": [],
   "source": [
    "# drop columns not needed in analysis\n",
    "df_disasters.drop(['Declaration Number', 'Declaration Date', 'County', 'Close Date'], axis=1, inplace=True)"
   ]
  },
  {
   "cell_type": "markdown",
   "metadata": {},
   "source": [
    "#### Nonprofits dataset"
   ]
  },
  {
   "cell_type": "code",
   "execution_count": 12,
   "metadata": {},
   "outputs": [],
   "source": [
    "df_nonprofits = pd.read_csv('NonProfits.csv')"
   ]
  },
  {
   "cell_type": "code",
   "execution_count": 13,
   "metadata": {},
   "outputs": [],
   "source": [
    "# remove any non-profit without a 501(c)(3) status\n",
    "\n",
    "# drop rows in no 'End Date'\n",
    "df_nonprofits['subsection'] = df_nonprofits['subsection'].fillna('none')\n",
    "\n",
    "for index, row in df_nonprofits.iterrows():\n",
    "    if row['subsection'] == 'none':\n",
    "        df_nonprofits.drop(index=index, inplace=True)"
   ]
  },
  {
   "cell_type": "code",
   "execution_count": 14,
   "metadata": {},
   "outputs": [],
   "source": [
    "df_nonprofits.to_csv('NonprofitsData.csv', index=False)"
   ]
  },
  {
   "cell_type": "code",
   "execution_count": 15,
   "metadata": {},
   "outputs": [],
   "source": [
    "df_npos_to_input = df_nonprofits.loc[:, ['state', 'charityName', 'categoryName']]\n",
    "df_npos_to_input = df_npos_to_input.groupby(['categoryName', 'state']).count()\n",
    "df_npos_to_input.reset_index(inplace=True)"
   ]
  },
  {
   "cell_type": "code",
   "execution_count": 16,
   "metadata": {},
   "outputs": [],
   "source": [
    "# change column names\n",
    "df_npos_to_input.rename(columns = {'state':'State'}, inplace = True)\n",
    "df_npos_to_input.rename(columns = {'charityName':'charityCount'}, inplace = True)"
   ]
  },
  {
   "cell_type": "code",
   "execution_count": 17,
   "metadata": {},
   "outputs": [],
   "source": [
    "# create dictionaries and lists to extract nonporift data for each state\n",
    "\n",
    "animals_dict = {'AL': 0, 'AK': 0, 'AZ': 0, 'AR': 0, 'CA': 0, 'CO': 0, 'CT': 0, 'DE': 0, 'DC': 0, 'FL': 0, 'GA': 0, 'HI': 0, 'ID': 0,\n",
    "                'IL': 0, 'IN': 0, 'IA': 0, 'KS': 0, 'KY': 0, 'LA': 0, 'ME': 0, 'MD': 0, 'MA': 0, 'MI': 0, 'MN': 0, 'MS': 0, 'MO': 0, \n",
    "                'MT': 0, 'NE': 0, 'NV': 0, 'NH': 0, 'NJ': 0, 'NM': 0, 'NY': 0, 'NC': 0, 'ND': 0, 'OH': 0, 'OK': 0, 'OR': 0, 'PA': 0, \n",
    "                'RI': 0, 'SC': 0, 'SD': 0, 'TN': 0, 'TX': 0, 'UT': 0, 'VT': 0, 'VA': 0, 'WA': 0, 'WV': 0, 'WI': 0, 'WY': 0, 'PR':0}\n",
    "\n",
    "arts_dict = {'AL': 0, 'AK': 0, 'AZ': 0, 'AR': 0, 'CA': 0, 'CO': 0, 'CT': 0, 'DE': 0, 'DC': 0, 'FL': 0, 'GA': 0, 'HI': 0, 'ID': 0,\n",
    "                'IL': 0, 'IN': 0, 'IA': 0, 'KS': 0, 'KY': 0, 'LA': 0, 'ME': 0, 'MD': 0, 'MA': 0, 'MI': 0, 'MN': 0, 'MS': 0, 'MO': 0, \n",
    "                'MT': 0, 'NE': 0, 'NV': 0, 'NH': 0, 'NJ': 0, 'NM': 0, 'NY': 0, 'NC': 0, 'ND': 0, 'OH': 0, 'OK': 0, 'OR': 0, 'PA': 0, \n",
    "                'RI': 0, 'SC': 0, 'SD': 0, 'TN': 0, 'TX': 0, 'UT': 0, 'VT': 0, 'VA': 0, 'WA': 0, 'WV': 0, 'WI': 0, 'WY': 0, 'PR':0}\n",
    "\n",
    "community_dev_dict = {'AL': 0, 'AK': 0, 'AZ': 0, 'AR': 0, 'CA': 0, 'CO': 0, 'CT': 0, 'DE': 0, 'DC': 0, 'FL': 0, 'GA': 0, 'HI': 0, \n",
    "                      'ID': 0, 'IL': 0, 'IN': 0, 'IA': 0, 'KS': 0, 'KY': 0, 'LA': 0, 'ME': 0, 'MD': 0, 'MA': 0, 'MI': 0, 'MN': 0, \n",
    "                      'MS': 0, 'MO': 0, 'MT': 0, 'NE': 0, 'NV': 0, 'NH': 0, 'NJ': 0, 'NM': 0, 'NY': 0, 'NC': 0, 'ND': 0, 'OH': 0, \n",
    "                      'OK': 0, 'OR': 0, 'PA': 0, 'RI': 0, 'SC': 0, 'SD': 0, 'TN': 0, 'TX': 0, 'UT': 0, 'VT': 0, 'VA': 0, 'WA': 0, \n",
    "                      'WV': 0, 'WI': 0, 'WY': 0, 'PR': 1}\n",
    "\n",
    "education_dict = {'AL': 0, 'AK': 0, 'AZ': 0, 'AR': 0, 'CA': 0, 'CO': 0, 'CT': 0, 'DE': 0, 'DC': 0, 'FL': 0, 'GA': 0, 'HI': 0, 'ID': 0,\n",
    "                'IL': 0, 'IN': 0, 'IA': 0, 'KS': 0, 'KY': 0, 'LA': 0, 'ME': 0, 'MD': 0, 'MA': 0, 'MI': 0, 'MN': 0, 'MS': 0, 'MO': 0, \n",
    "                'MT': 0, 'NE': 0, 'NV': 0, 'NH': 0, 'NJ': 0, 'NM': 0, 'NY': 0, 'NC': 0, 'ND': 0, 'OH': 0, 'OK': 0, 'OR': 0, 'PA': 0, \n",
    "                'RI': 0, 'SC': 0, 'SD': 0, 'TN': 0, 'TX': 0, 'UT': 0, 'VT': 0, 'VA': 0, 'WA': 0, 'WV': 0, 'WI': 0, 'WY': 0, 'PR': 0}\n",
    "\n",
    "environment_dict = {'AL': 0, 'AK': 0, 'AZ': 0, 'AR': 0, 'CA': 0, 'CO': 0, 'CT': 0, 'DE': 0, 'DC': 0, 'FL': 0, 'GA': 0, 'HI': 0, 'ID': 0,\n",
    "                'IL': 0, 'IN': 0, 'IA': 0, 'KS': 0, 'KY': 0, 'LA': 0, 'ME': 0, 'MD': 0, 'MA': 0, 'MI': 0, 'MN': 0, 'MS': 0, 'MO': 0, \n",
    "                'MT': 0, 'NE': 0, 'NV': 0, 'NH': 0, 'NJ': 0, 'NM': 0, 'NY': 0, 'NC': 0, 'ND': 0, 'OH': 0, 'OK': 0, 'OR': 0, 'PA': 0, \n",
    "                'RI': 0, 'SC': 0, 'SD': 0, 'TN': 0, 'TX': 0, 'UT': 0, 'VT': 0, 'VA': 0, 'WA': 0, 'WV': 0, 'WI': 0, 'WY': 0, 'PR': 0}\n",
    "\n",
    "health_dict = {'AL': 0, 'AK': 0, 'AZ': 0, 'AR': 0, 'CA': 0, 'CO': 0, 'CT': 0, 'DE': 0, 'DC': 0, 'FL': 0, 'GA': 0, 'HI': 0, 'ID': 0,\n",
    "                'IL': 0, 'IN': 0, 'IA': 0, 'KS': 0, 'KY': 0, 'LA': 0, 'ME': 0, 'MD': 0, 'MA': 0, 'MI': 0, 'MN': 0, 'MS': 0, 'MO': 0, \n",
    "                'MT': 0, 'NE': 0, 'NV': 0, 'NH': 0, 'NJ': 0, 'NM': 0, 'NY': 0, 'NC': 0, 'ND': 0, 'OH': 0, 'OK': 0, 'OR': 0, 'PA': 0, \n",
    "                'RI': 0, 'SC': 0, 'SD': 0, 'TN': 0, 'TX': 0, 'UT': 0, 'VT': 0, 'VA': 0, 'WA': 0, 'WV': 0, 'WI': 0, 'WY': 0, 'PR': 1}\n",
    "\n",
    "humanServices_dict = {'AL': 0, 'AK': 0, 'AZ': 0, 'AR': 0, 'CA': 0, 'CO': 0, 'CT': 0, 'DE': 0, 'DC': 0, 'FL': 0, 'GA': 0, 'HI': 0, \n",
    "                      'ID': 0, 'IL': 0, 'IN': 0, 'IA': 0, 'KS': 0, 'KY': 0, 'LA': 0, 'ME': 0, 'MD': 0, 'MA': 0, 'MI': 0, 'MN': 0, \n",
    "                      'MS': 0, 'MO': 0, 'MT': 0, 'NE': 0, 'NV': 0, 'NH': 0, 'NJ': 0, 'NM': 0, 'NY': 0, 'NC': 0, 'ND': 0, 'OH': 0, \n",
    "                      'OK': 0, 'OR': 0, 'PA': 0, 'RI': 0, 'SC': 0, 'SD': 0, 'TN': 0, 'TX': 0, 'UT': 0, 'VT': 0, 'VA': 0, 'WA': 0, \n",
    "                      'WV': 0, 'WI': 0, 'WY': 0, 'PR': 0}\n",
    "\n",
    "civilRights_dict = {'AL': 0, 'AK': 0, 'AZ': 0, 'AR': 0, 'CA': 0, 'CO': 0, 'CT': 0, 'DE': 0, 'DC': 0, 'FL': 0, 'GA': 0, 'HI': 0, 'ID': 0,\n",
    "                'IL': 0, 'IN': 0, 'IA': 0, 'KS': 0, 'KY': 0, 'LA': 0, 'ME': 0, 'MD': 0, 'MA': 0, 'MI': 0, 'MN': 0, 'MS': 0, 'MO': 0, \n",
    "                'MT': 0, 'NE': 0, 'NV': 0, 'NH': 0, 'NJ': 0, 'NM': 0, 'NY': 0, 'NC': 0, 'ND': 0, 'OH': 0, 'OK': 0, 'OR': 0, 'PA': 0, \n",
    "                'RI': 0, 'SC': 0, 'SD': 0, 'TN': 0, 'TX': 0, 'UT': 0, 'VT': 0, 'VA': 0, 'WA': 0, 'WV': 0, 'WI': 0, 'WY': 0, 'PR': 0}\n",
    "\n",
    "international_dict = {'AL': 0, 'AK': 0, 'AZ': 0, 'AR': 0, 'CA': 0, 'CO': 0, 'CT': 0, 'DE': 0, 'DC': 0, 'FL': 0, 'GA': 0, 'HI': 0, \n",
    "                      'ID': 0, 'IL': 0, 'IN': 0, 'IA': 0, 'KS': 0, 'KY': 0, 'LA': 0, 'ME': 0, 'MD': 0, 'MA': 0, 'MI': 0, 'MN': 0, \n",
    "                      'MS': 0, 'MO': 0, 'MT': 0, 'NE': 0, 'NV': 0, 'NH': 0, 'NJ': 0, 'NM': 0, 'NY': 0, 'NC': 0, 'ND': 0, 'OH': 0, \n",
    "                      'OK': 0, 'OR': 0, 'PA': 0, 'RI': 0, 'SC': 0, 'SD': 0, 'TN': 0, 'TX': 0, 'UT': 0, 'VT': 0, 'VA': 0, 'WA': 0, \n",
    "                      'WV': 0, 'WI': 0, 'WY': 0, 'PR': 0}\n",
    "\n",
    "religion_dict = {'AL': 0, 'AK': 0, 'AZ': 0, 'AR': 0, 'CA': 0, 'CO': 0, 'CT': 0, 'DE': 0, 'DC': 0, 'FL': 0, 'GA': 0, 'HI': 0, 'ID': 0,\n",
    "                'IL': 0, 'IN': 0, 'IA': 0, 'KS': 0, 'KY': 0, 'LA': 0, 'ME': 0, 'MD': 0, 'MA': 0, 'MI': 0, 'MN': 0, 'MS': 0, 'MO': 0, \n",
    "                'MT': 0, 'NE': 0, 'NV': 0, 'NH': 0, 'NJ': 0, 'NM': 0, 'NY': 0, 'NC': 0, 'ND': 0, 'OH': 0, 'OK': 0, 'OR': 0, 'PA': 0, \n",
    "                'RI': 0, 'SC': 0, 'SD': 0, 'TN': 0, 'TX': 0, 'UT': 0, 'VT': 0, 'VA': 0, 'WA': 0, 'WV': 0, 'WI': 0, 'WY': 0, 'PR': 0}\n",
    "\n",
    "publicPolicy_dict = {'AL': 0, 'AK': 0, 'AZ': 0, 'AR': 0, 'CA': 0, 'CO': 0, 'CT': 0, 'DE': 0, 'DC': 0, 'FL': 0, 'GA': 0, 'HI': 0, \n",
    "                     'ID': 0, 'IL': 0, 'IN': 0, 'IA': 0, 'KS': 0, 'KY': 0, 'LA': 0, 'ME': 0, 'MD': 0, 'MA': 0, 'MI': 0, 'MN': 0, \n",
    "                     'MS': 0, 'MO': 0, 'MT': 0, 'NE': 0, 'NV': 0, 'NH': 0, 'NJ': 0, 'NM': 0, 'NY': 0, 'NC': 0, 'ND': 0, 'OH': 0, \n",
    "                     'OK': 0, 'OR': 0, 'PA': 0, 'RI': 0, 'SC': 0, 'SD': 0, 'TN': 0, 'TX': 0, 'UT': 0, 'VT': 0, 'VA': 0, 'WA': 0, \n",
    "                     'WV': 0, 'WI': 0, 'WY': 0, 'PR': 1}\n",
    "\n",
    "\n",
    "npo_dictionaries = [animals_dict, arts_dict, community_dev_dict, education_dict, environment_dict, health_dict, humanServices_dict,\n",
    "                   civilRights_dict, international_dict, religion_dict, publicPolicy_dict]\n",
    "\n",
    "npo_cat = ['Animals', 'Arts, Culture, Humanities', 'Community Development', 'Education', 'Environment', 'Health', 'Human Services',\n",
    "           'Human and Civil Rights', 'International', 'Religion', 'Research and Public Policy']"
   ]
  },
  {
   "cell_type": "code",
   "execution_count": 18,
   "metadata": {},
   "outputs": [],
   "source": [
    "# create function to append npo data for one state\n",
    "\n",
    "def append_npos_data(df, dict_, category):\n",
    "    df1 = df[df['categoryName'] == category]\n",
    "    for j in df1.State:\n",
    "        if j in dict_:\n",
    "            df2 = df1[df1['State'] == j]\n",
    "            df2.set_index('categoryName', inplace=True)\n",
    "            #return df2\n",
    "            dict_[j] = df2.iloc[-1]['charityCount']\n",
    "    return(dict_)"
   ]
  },
  {
   "cell_type": "code",
   "execution_count": 19,
   "metadata": {},
   "outputs": [],
   "source": [
    "# loop through 'append_npos_data' to collect data for all states\n",
    "\n",
    "dictionaries_list = []\n",
    "def npo_cat_list(df, category_list, dictionaries):\n",
    "    counter = -1\n",
    "    for item in category_list:\n",
    "        counter += 1\n",
    "        dict_ = dictionaries[counter]\n",
    "        dictionaries[counter] == append_npos_data(df, dict_, item)\n",
    "        dictionaries_list.append(dictionaries[counter])\n",
    "    return dictionaries_list"
   ]
  },
  {
   "cell_type": "code",
   "execution_count": 20,
   "metadata": {},
   "outputs": [],
   "source": [
    "# call function to get npo data for all states\n",
    "npo_cat_list(df_npos_to_input, npo_cat, npo_dictionaries)\n",
    "\n",
    "# index data to create separate dictionaries for all categories\n",
    "animals_dict = dictionaries_list[0]\n",
    "arts_dict = dictionaries_list[1]\n",
    "community_dev_dict = dictionaries_list[2]\n",
    "education_dict = dictionaries_list[3]\n",
    "environment_dict = dictionaries_list[4]\n",
    "health_dict = dictionaries_list[5]\n",
    "humanServices_dict = dictionaries_list[6]\n",
    "civilRights_dict = dictionaries_list[7]\n",
    "international_dict = dictionaries_list[8]\n",
    "religion_dict = dictionaries_list[9]\n",
    "publicPolicy_dict = dictionaries_list[10]"
   ]
  },
  {
   "cell_type": "markdown",
   "metadata": {},
   "source": [
    "#### Main dataset"
   ]
  },
  {
   "cell_type": "code",
   "execution_count": 21,
   "metadata": {},
   "outputs": [
    {
     "data": {
      "text/html": [
       "<div>\n",
       "<style scoped>\n",
       "    .dataframe tbody tr th:only-of-type {\n",
       "        vertical-align: middle;\n",
       "    }\n",
       "\n",
       "    .dataframe tbody tr th {\n",
       "        vertical-align: top;\n",
       "    }\n",
       "\n",
       "    .dataframe thead th {\n",
       "        text-align: right;\n",
       "    }\n",
       "</style>\n",
       "<table border=\"1\" class=\"dataframe\">\n",
       "  <thead>\n",
       "    <tr style=\"text-align: right;\">\n",
       "      <th></th>\n",
       "      <th>Declaration Type</th>\n",
       "      <th>State</th>\n",
       "      <th>Disaster Type</th>\n",
       "      <th>Disaster Title</th>\n",
       "      <th>Start Date</th>\n",
       "      <th>End Date</th>\n",
       "      <th>Individual Assistance Program</th>\n",
       "      <th>Individuals &amp; Households Program</th>\n",
       "      <th>Public Assistance Program</th>\n",
       "      <th>Hazard Mitigation Program</th>\n",
       "      <th>Year</th>\n",
       "    </tr>\n",
       "  </thead>\n",
       "  <tbody>\n",
       "    <tr>\n",
       "      <th>0</th>\n",
       "      <td>Fire</td>\n",
       "      <td>TX</td>\n",
       "      <td>Fire</td>\n",
       "      <td>Saddleback Fire</td>\n",
       "      <td>2000-01-03</td>\n",
       "      <td>01/03/2000</td>\n",
       "      <td>No</td>\n",
       "      <td>No</td>\n",
       "      <td>Yes</td>\n",
       "      <td>No</td>\n",
       "      <td>2000</td>\n",
       "    </tr>\n",
       "    <tr>\n",
       "      <th>1</th>\n",
       "      <td>Fire</td>\n",
       "      <td>TX</td>\n",
       "      <td>Fire</td>\n",
       "      <td>Purgatory Fire</td>\n",
       "      <td>2000-01-04</td>\n",
       "      <td>01/04/2000</td>\n",
       "      <td>No</td>\n",
       "      <td>No</td>\n",
       "      <td>Yes</td>\n",
       "      <td>No</td>\n",
       "      <td>2000</td>\n",
       "    </tr>\n",
       "    <tr>\n",
       "      <th>2</th>\n",
       "      <td>Fire</td>\n",
       "      <td>TX</td>\n",
       "      <td>Fire</td>\n",
       "      <td>Bob's Trail Fire</td>\n",
       "      <td>2000-01-05</td>\n",
       "      <td>01/05/2000</td>\n",
       "      <td>No</td>\n",
       "      <td>No</td>\n",
       "      <td>Yes</td>\n",
       "      <td>No</td>\n",
       "      <td>2000</td>\n",
       "    </tr>\n",
       "    <tr>\n",
       "      <th>3</th>\n",
       "      <td>Disaster</td>\n",
       "      <td>KY</td>\n",
       "      <td>Tornado</td>\n",
       "      <td>Tornadoes, Severe Storms, Torrential Rains, an...</td>\n",
       "      <td>2000-01-03</td>\n",
       "      <td>01/04/2000</td>\n",
       "      <td>Yes</td>\n",
       "      <td>No</td>\n",
       "      <td>Yes</td>\n",
       "      <td>Yes</td>\n",
       "      <td>2000</td>\n",
       "    </tr>\n",
       "    <tr>\n",
       "      <th>4</th>\n",
       "      <td>Disaster</td>\n",
       "      <td>KY</td>\n",
       "      <td>Tornado</td>\n",
       "      <td>Tornadoes, Severe Storms, Torrential Rains, an...</td>\n",
       "      <td>2000-01-03</td>\n",
       "      <td>01/04/2000</td>\n",
       "      <td>Yes</td>\n",
       "      <td>No</td>\n",
       "      <td>Yes</td>\n",
       "      <td>Yes</td>\n",
       "      <td>2000</td>\n",
       "    </tr>\n",
       "    <tr>\n",
       "      <th>...</th>\n",
       "      <td>...</td>\n",
       "      <td>...</td>\n",
       "      <td>...</td>\n",
       "      <td>...</td>\n",
       "      <td>...</td>\n",
       "      <td>...</td>\n",
       "      <td>...</td>\n",
       "      <td>...</td>\n",
       "      <td>...</td>\n",
       "      <td>...</td>\n",
       "      <td>...</td>\n",
       "    </tr>\n",
       "    <tr>\n",
       "      <th>26718</th>\n",
       "      <td>Disaster</td>\n",
       "      <td>CA</td>\n",
       "      <td>Storm</td>\n",
       "      <td>Severe Winter Storms, Flooding, and Mudslides</td>\n",
       "      <td>2017-01-03</td>\n",
       "      <td>01/12/2017</td>\n",
       "      <td>No</td>\n",
       "      <td>No</td>\n",
       "      <td>Yes</td>\n",
       "      <td>Yes</td>\n",
       "      <td>2017</td>\n",
       "    </tr>\n",
       "    <tr>\n",
       "      <th>26719</th>\n",
       "      <td>Disaster</td>\n",
       "      <td>CA</td>\n",
       "      <td>Storm</td>\n",
       "      <td>Severe Winter Storms, Flooding, and Mudslides</td>\n",
       "      <td>2017-01-03</td>\n",
       "      <td>01/12/2017</td>\n",
       "      <td>No</td>\n",
       "      <td>No</td>\n",
       "      <td>Yes</td>\n",
       "      <td>Yes</td>\n",
       "      <td>2017</td>\n",
       "    </tr>\n",
       "    <tr>\n",
       "      <th>26720</th>\n",
       "      <td>Disaster</td>\n",
       "      <td>CA</td>\n",
       "      <td>Storm</td>\n",
       "      <td>Severe Winter Storms, Flooding, and Mudslides</td>\n",
       "      <td>2017-01-03</td>\n",
       "      <td>01/12/2017</td>\n",
       "      <td>No</td>\n",
       "      <td>No</td>\n",
       "      <td>Yes</td>\n",
       "      <td>Yes</td>\n",
       "      <td>2017</td>\n",
       "    </tr>\n",
       "    <tr>\n",
       "      <th>26721</th>\n",
       "      <td>Disaster</td>\n",
       "      <td>CA</td>\n",
       "      <td>Storm</td>\n",
       "      <td>Severe Winter Storms, Flooding, and Mudslides</td>\n",
       "      <td>2017-01-03</td>\n",
       "      <td>01/12/2017</td>\n",
       "      <td>No</td>\n",
       "      <td>No</td>\n",
       "      <td>Yes</td>\n",
       "      <td>Yes</td>\n",
       "      <td>2017</td>\n",
       "    </tr>\n",
       "    <tr>\n",
       "      <th>26722</th>\n",
       "      <td>Disaster</td>\n",
       "      <td>CA</td>\n",
       "      <td>Storm</td>\n",
       "      <td>Severe Winter Storms, Flooding, and Mudslides</td>\n",
       "      <td>2017-01-03</td>\n",
       "      <td>01/12/2017</td>\n",
       "      <td>No</td>\n",
       "      <td>No</td>\n",
       "      <td>Yes</td>\n",
       "      <td>Yes</td>\n",
       "      <td>2017</td>\n",
       "    </tr>\n",
       "  </tbody>\n",
       "</table>\n",
       "<p>26723 rows × 11 columns</p>\n",
       "</div>"
      ],
      "text/plain": [
       "      Declaration Type State Disaster Type  \\\n",
       "0                 Fire    TX          Fire   \n",
       "1                 Fire    TX          Fire   \n",
       "2                 Fire    TX          Fire   \n",
       "3             Disaster    KY       Tornado   \n",
       "4             Disaster    KY       Tornado   \n",
       "...                ...   ...           ...   \n",
       "26718         Disaster    CA         Storm   \n",
       "26719         Disaster    CA         Storm   \n",
       "26720         Disaster    CA         Storm   \n",
       "26721         Disaster    CA         Storm   \n",
       "26722         Disaster    CA         Storm   \n",
       "\n",
       "                                          Disaster Title  Start Date  \\\n",
       "0                                        Saddleback Fire  2000-01-03   \n",
       "1                                         Purgatory Fire  2000-01-04   \n",
       "2                                       Bob's Trail Fire  2000-01-05   \n",
       "3      Tornadoes, Severe Storms, Torrential Rains, an...  2000-01-03   \n",
       "4      Tornadoes, Severe Storms, Torrential Rains, an...  2000-01-03   \n",
       "...                                                  ...         ...   \n",
       "26718      Severe Winter Storms, Flooding, and Mudslides  2017-01-03   \n",
       "26719      Severe Winter Storms, Flooding, and Mudslides  2017-01-03   \n",
       "26720      Severe Winter Storms, Flooding, and Mudslides  2017-01-03   \n",
       "26721      Severe Winter Storms, Flooding, and Mudslides  2017-01-03   \n",
       "26722      Severe Winter Storms, Flooding, and Mudslides  2017-01-03   \n",
       "\n",
       "         End Date Individual Assistance Program  \\\n",
       "0      01/03/2000                            No   \n",
       "1      01/04/2000                            No   \n",
       "2      01/05/2000                            No   \n",
       "3      01/04/2000                           Yes   \n",
       "4      01/04/2000                           Yes   \n",
       "...           ...                           ...   \n",
       "26718  01/12/2017                            No   \n",
       "26719  01/12/2017                            No   \n",
       "26720  01/12/2017                            No   \n",
       "26721  01/12/2017                            No   \n",
       "26722  01/12/2017                            No   \n",
       "\n",
       "      Individuals & Households Program Public Assistance Program  \\\n",
       "0                                   No                       Yes   \n",
       "1                                   No                       Yes   \n",
       "2                                   No                       Yes   \n",
       "3                                   No                       Yes   \n",
       "4                                   No                       Yes   \n",
       "...                                ...                       ...   \n",
       "26718                               No                       Yes   \n",
       "26719                               No                       Yes   \n",
       "26720                               No                       Yes   \n",
       "26721                               No                       Yes   \n",
       "26722                               No                       Yes   \n",
       "\n",
       "      Hazard Mitigation Program  Year  \n",
       "0                            No  2000  \n",
       "1                            No  2000  \n",
       "2                            No  2000  \n",
       "3                           Yes  2000  \n",
       "4                           Yes  2000  \n",
       "...                         ...   ...  \n",
       "26718                       Yes  2017  \n",
       "26719                       Yes  2017  \n",
       "26720                       Yes  2017  \n",
       "26721                       Yes  2017  \n",
       "26722                       Yes  2017  \n",
       "\n",
       "[26723 rows x 11 columns]"
      ]
     },
     "execution_count": 21,
     "metadata": {},
     "output_type": "execute_result"
    }
   ],
   "source": [
    "df_disasters"
   ]
  },
  {
   "cell_type": "markdown",
   "metadata": {},
   "source": [
    "#### Add dictionaries to main dataframe"
   ]
  },
  {
   "cell_type": "code",
   "execution_count": 22,
   "metadata": {},
   "outputs": [],
   "source": [
    "# list of dictionaries to add\n",
    "df_dictionaries = [population_dict, landArea_dict, totalArea_dict, animals_dict, arts_dict, community_dev_dict, education_dict ,\n",
    "                   environment_dict, health_dict, humanServices_dict, civilRights_dict, international_dict, religion_dict, \n",
    "                   publicPolicy_dict]\n",
    "\n",
    "# column names\n",
    "df_additional_columns = ['State Population', 'Land Area', 'Total Area', 'Animals', 'Arts, Culture, Humanities', 'Community Development', \n",
    "           'Education', 'Environment', 'Health', 'Human Services', 'Human and Civil Rights', 'International', 'Religion', \n",
    "           'Research and Public Policy']"
   ]
  },
  {
   "cell_type": "code",
   "execution_count": 23,
   "metadata": {},
   "outputs": [],
   "source": [
    "# create function to add empty columns to dataframe\n",
    "\n",
    "def add_empty_columns(columns_list, df):\n",
    "    for i in columns_list:\n",
    "        df[i] = ''"
   ]
  },
  {
   "cell_type": "code",
   "execution_count": 24,
   "metadata": {},
   "outputs": [],
   "source": [
    "# call 'add_empty_columns' to add empty columns to main dataframe\n",
    "\n",
    "add_empty_columns(df_additional_columns, df_disasters)"
   ]
  },
  {
   "cell_type": "code",
   "execution_count": 25,
   "metadata": {},
   "outputs": [],
   "source": [
    "# create function to add values in the dataframe\n",
    "\n",
    "def add_column_values(df, dict_list, column_list):\n",
    "    count_dict = -1\n",
    "    count_column = -1\n",
    "    for i in dict_list:\n",
    "        count_dict += 1\n",
    "        count_column += 1\n",
    "        dictionary = dict_list[count_dict]\n",
    "        for word in dictionary.keys():\n",
    "            df.loc[df['State'].str.contains(word, na=False), \n",
    "                [column_list[count_column]]] = dictionary[word]"
   ]
  },
  {
   "cell_type": "code",
   "execution_count": 26,
   "metadata": {},
   "outputs": [],
   "source": [
    "# call 'add_column_values' to add values in the empty columns created before\n",
    "\n",
    "add_column_values(df_disasters, df_dictionaries, df_additional_columns)"
   ]
  },
  {
   "cell_type": "code",
   "execution_count": 27,
   "metadata": {},
   "outputs": [
    {
     "data": {
      "text/plain": [
       "Declaration Type                      0\n",
       "State                                 0\n",
       "Disaster Type                         0\n",
       "Disaster Title                        0\n",
       "Start Date                            0\n",
       "End Date                            282\n",
       "Individual Assistance Program         0\n",
       "Individuals & Households Program      0\n",
       "Public Assistance Program             0\n",
       "Hazard Mitigation Program             0\n",
       "Year                                  0\n",
       "State Population                      0\n",
       "Land Area                             0\n",
       "Total Area                            0\n",
       "Animals                               0\n",
       "Arts, Culture, Humanities             0\n",
       "Community Development                 0\n",
       "Education                             0\n",
       "Environment                           0\n",
       "Health                                0\n",
       "Human Services                        0\n",
       "Human and Civil Rights                0\n",
       "International                         0\n",
       "Religion                              0\n",
       "Research and Public Policy            0\n",
       "dtype: int64"
      ]
     },
     "execution_count": 27,
     "metadata": {},
     "output_type": "execute_result"
    }
   ],
   "source": [
    "# check null values in final dataset\n",
    "\n",
    "df_disasters.isnull().sum()"
   ]
  },
  {
   "cell_type": "code",
   "execution_count": 28,
   "metadata": {},
   "outputs": [],
   "source": [
    "# drop rows in no 'End Date'\n",
    "df_disasters['End Date'] = df_disasters['End Date'].fillna('none')\n",
    "\n",
    "for index, row in df_disasters.iterrows():\n",
    "    if row['End Date'] == 'none':\n",
    "        df_disasters.drop(index=index, inplace=True)"
   ]
  },
  {
   "cell_type": "code",
   "execution_count": 29,
   "metadata": {},
   "outputs": [],
   "source": [
    "# add 'total nonprofits' (per state) column in the dataframe\n",
    "df_disasters['Total Nonprofits'] = df_disasters['Animals'] + df_disasters['Arts, Culture, Humanities'] + df_disasters['Community Development'] + df_disasters['Education'] + df_disasters['Environment'] + df_disasters['Health'] + df_disasters['Human Services'] + df_disasters['Human and Civil Rights'] + df_disasters['International'] + df_disasters['Religion'] + df_disasters['Research and Public Policy']"
   ]
  },
  {
   "cell_type": "code",
   "execution_count": 30,
   "metadata": {},
   "outputs": [],
   "source": [
    "# create target variable - total number of days a disaster lasted\n",
    "df_disasters['Start Date'] = pd.to_datetime(df_disasters['Start Date'])\n",
    "df_disasters['End Date'] = pd.to_datetime(df_disasters['End Date'])\n",
    "df_disasters['No. of Days'] = df_disasters['End Date'] - df_disasters['Start Date']\n",
    "df_disasters['No. of Days'] = df_disasters['No. of Days'].dt.days.astype('int16')"
   ]
  },
  {
   "cell_type": "code",
   "execution_count": 31,
   "metadata": {},
   "outputs": [],
   "source": [
    "# update Puerto Rico's population in dataframe\n",
    "PR_pop = {'PR': 2860853}\n",
    "\n",
    "for word in PR_pop.keys():\n",
    "            df_disasters.loc[df_disasters['State'].str.contains(word, na=False), \n",
    "                ['State Population']] = PR_pop[word]\n",
    "\n",
    "# update Puerto Rico's Land Area in dataframe\n",
    "PR_landArea = {'PR': 9104}\n",
    "\n",
    "for word in PR_landArea.keys():\n",
    "            df_disasters.loc[df_disasters['State'].str.contains(word, na=False), \n",
    "                ['Land Area']] = PR_landArea[word]\n",
    "        \n",
    "# update Puerto Rico's Total Area in dataframe\n",
    "PR_totalArea = {'PR': 9104}\n",
    "\n",
    "for word in PR_totalArea.keys():\n",
    "            df_disasters.loc[df_disasters['State'].str.contains(word, na=False), \n",
    "                ['Total Area']] = PR_totalArea[word]"
   ]
  },
  {
   "cell_type": "code",
   "execution_count": 32,
   "metadata": {},
   "outputs": [],
   "source": [
    "# export final dataset\n",
    "df_disasters.to_csv('FinalDataset.csv', index=False)"
   ]
  }
 ],
 "metadata": {
  "kernelspec": {
   "display_name": "Python 3",
   "language": "python",
   "name": "python3"
  },
  "language_info": {
   "codemirror_mode": {
    "name": "ipython",
    "version": 3
   },
   "file_extension": ".py",
   "mimetype": "text/x-python",
   "name": "python",
   "nbconvert_exporter": "python",
   "pygments_lexer": "ipython3",
   "version": "3.8.5"
  }
 },
 "nbformat": 4,
 "nbformat_minor": 4
}
